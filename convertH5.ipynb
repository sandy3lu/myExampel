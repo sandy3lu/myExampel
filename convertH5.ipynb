{
 "cells": [
  {
   "cell_type": "code",
   "execution_count": 124,
   "metadata": {},
   "outputs": [
    {
     "name": "stdout",
     "output_type": "stream",
     "text": [
      "DATE               object\n",
      "CLOSEP            float64\n",
      "VOL-TDX.VOLUME    float64\n",
      "Unnamed: 3        float64\n",
      "price-ratio       float64\n",
      "vol-ratio         float64\n",
      "days5                bool\n",
      "flag                int64\n",
      "dtype: object\n"
     ]
    }
   ],
   "source": [
    "import h5py\n",
    "import pandas as pd\n",
    "import numpy  as np\n",
    "daysInt =5\n",
    "batchSize = 100\n",
    "fileName='D:\\\\software\\\\dl\\\\data\\\\000002.xlsx'\n",
    "df=pd.read_excel(fileName)\n",
    "print(df.dtypes)"
   ]
  },
  {
   "cell_type": "code",
   "execution_count": null,
   "metadata": {
    "collapsed": true
   },
   "outputs": [],
   "source": []
  },
  {
   "cell_type": "code",
   "execution_count": 125,
   "metadata": {},
   "outputs": [
    {
     "name": "stdout",
     "output_type": "stream",
     "text": [
      "(6058,)\n",
      "6000\n",
      "(6000, 1, 2)\n"
     ]
    }
   ],
   "source": [
    "xp = np.around(df['price-ratio'].values,decimals=4)+0.1\n",
    "xv = np.around(df['vol-ratio'].values,decimals=4)\n",
    "y=df['flag'].values\n",
    "print(y.shape)\n",
    "samples_all = len(y)-daysInt+1  #valid data size\n",
    "samples = samples_all - samples_all%batchSize\n",
    "print(samples)\n",
    "a=np.zeros((samples, 1,2))\n",
    "a[:,0,0] = xp[(samples_all-samples):samples_all]*10\n",
    "a[:,0,1] = xv[(samples_all-samples):samples_all]\n",
    "b = np.array(a)\n",
    "cont=np.ones((samples,1))\n",
    "cont[0,0]=0\n",
    "print(b.shape)"
   ]
  },
  {
   "cell_type": "code",
   "execution_count": 126,
   "metadata": {},
   "outputs": [],
   "source": [
    "outFileName=fileName.replace('.xlsx','.hdf5',1)\n",
    "with h5py.File(outFileName, \"w\") as f:\n",
    "    f['data'] = b\n",
    "    f['label']=y[(samples_all-samples):samples_all]\n",
    "    f['cont'] = cont"
   ]
  },
  {
   "cell_type": "code",
   "execution_count": 127,
   "metadata": {},
   "outputs": [
    {
     "name": "stdout",
     "output_type": "stream",
     "text": [
      "KeysView(<HDF5 file \"000002.hdf5\" (mode r)>)\n",
      "/cont\n",
      "(6000, 1)\n",
      "/data\n",
      "(6000, 1, 2)\n",
      "/label\n",
      "(6000,)\n"
     ]
    }
   ],
   "source": [
    "with h5py.File(outFileName, 'r') as f:\n",
    "    print(f.keys())\n",
    "    for key in f.keys():\n",
    "        print(f[key].name)\n",
    "        print(f[key].value.shape)"
   ]
  },
  {
   "cell_type": "code",
   "execution_count": 128,
   "metadata": {},
   "outputs": [
    {
     "name": "stdout",
     "output_type": "stream",
     "text": [
      "[ 0.955  0.955  1.409 ...,  1.369  1.143  1.033]\n"
     ]
    }
   ],
   "source": [
    "print(a[:,0,0])"
   ]
  },
  {
   "cell_type": "code",
   "execution_count": null,
   "metadata": {
    "collapsed": true
   },
   "outputs": [],
   "source": []
  },
  {
   "cell_type": "code",
   "execution_count": null,
   "metadata": {
    "collapsed": true
   },
   "outputs": [],
   "source": []
  }
 ],
 "metadata": {
  "kernelspec": {
   "display_name": "Python 3",
   "language": "python",
   "name": "python3"
  },
  "language_info": {
   "codemirror_mode": {
    "name": "ipython",
    "version": 3
   },
   "file_extension": ".py",
   "mimetype": "text/x-python",
   "name": "python",
   "nbconvert_exporter": "python",
   "pygments_lexer": "ipython3",
   "version": "3.6.2"
  }
 },
 "nbformat": 4,
 "nbformat_minor": 2
}
