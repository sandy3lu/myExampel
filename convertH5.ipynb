{
 "cells": [
  {
   "cell_type": "code",
   "execution_count": 102,
   "metadata": {
    "collapsed": true
   },
   "outputs": [],
   "source": [
    "import h5py\n",
    "import pandas as pd\n",
    "import numpy  as np"
   ]
  },
  {
   "cell_type": "code",
   "execution_count": 103,
   "metadata": {},
   "outputs": [
    {
     "name": "stdout",
     "output_type": "stream",
     "text": [
      "DATE               object\n",
      "CLOSEP            float64\n",
      "VOL-TDX.VOLUME    float64\n",
      "Unnamed: 3        float64\n",
      "price-ratio       float64\n",
      "vol-ratio         float64\n",
      "days5                bool\n",
      "flag                int64\n",
      "dtype: object\n"
     ]
    }
   ],
   "source": [
    "fileName='D:\\\\software\\\\dl\\\\data\\\\000002.xlsx'\n",
    "df=pd.read_excel(fileName)\n",
    "print(df.dtypes)"
   ]
  },
  {
   "cell_type": "code",
   "execution_count": 104,
   "metadata": {},
   "outputs": [
    {
     "name": "stdout",
     "output_type": "stream",
     "text": [
      "(6058,)\n",
      "6058\n",
      "(6058, 2, 1, 1)\n"
     ]
    }
   ],
   "source": [
    "xp = df['price-ratio'].values\n",
    "xv = df['vol-ratio'].values\n",
    "y=df['flag'].values\n",
    "print(y.shape)\n",
    "samples = len(y)\n",
    "print(samples)\n",
    "a=np.zeros((samples, 2,1,1))\n",
    "a[:,0,0,0] = xp\n",
    "a[:,1,0,0] = xv\n",
    "b = np.array(a)\n",
    "print(b.shape)"
   ]
  },
  {
   "cell_type": "code",
   "execution_count": 105,
   "metadata": {},
   "outputs": [],
   "source": [
    "outFileName=fileName.replace('.xlsx','.hdf5',1)\n",
    "with h5py.File(outFileName, \"w\") as f:\n",
    "    f['data'] = b\n",
    "    f['label']=y"
   ]
  },
  {
   "cell_type": "code",
   "execution_count": 106,
   "metadata": {},
   "outputs": [
    {
     "name": "stdout",
     "output_type": "stream",
     "text": [
      "KeysView(<HDF5 file \"000002.hdf5\" (mode r)>)\n",
      "/data\n",
      "(6058, 2, 1, 1)\n",
      "/label\n",
      "(6058,)\n"
     ]
    }
   ],
   "source": [
    "with h5py.File(outFileName, 'r') as f:\n",
    "    print(f.keys())\n",
    "    for key in f.keys():\n",
    "        print(f[key].name)\n",
    "        print(f[key].value.shape)"
   ]
  },
  {
   "cell_type": "code",
   "execution_count": null,
   "metadata": {
    "collapsed": true
   },
   "outputs": [],
   "source": []
  }
 ],
 "metadata": {
  "kernelspec": {
   "display_name": "Python 3",
   "language": "python",
   "name": "python3"
  },
  "language_info": {
   "codemirror_mode": {
    "name": "ipython",
    "version": 3
   },
   "file_extension": ".py",
   "mimetype": "text/x-python",
   "name": "python",
   "nbconvert_exporter": "python",
   "pygments_lexer": "ipython3",
   "version": "3.6.2"
  }
 },
 "nbformat": 4,
 "nbformat_minor": 2
}
