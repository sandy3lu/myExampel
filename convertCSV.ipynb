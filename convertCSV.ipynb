{
 "cells": [
  {
   "cell_type": "code",
   "execution_count": 1,
   "metadata": {},
   "outputs": [],
   "source": [
    "import csv\n",
    "import struct\n",
    "#import binascii\n",
    "fileName='D:\\\\software\\\\dl\\\\data\\\\szlday\\\\sz000002.day'\n",
    "ofile = open(fileName,'rb')\n",
    "buf=ofile.read()  \n",
    "ofile.close()  \n",
    "num=len(buf)  \n",
    "no=num/32  \n",
    "b=0  \n",
    "#print(no)\n",
    "#e=32  \n",
    "#print(type(e))\n",
    "cvsfileName = fileName.replace('.day','.csv',1)\n",
    "#print(cvsfileName)\n",
    "csvFile = open(cvsfileName, \"w\",newline='') #newline='' suppresses text mode newline handling.\n",
    "csvWriter = csv.writer(csvFile)\n",
    "item=['date', 'openPrice', 'high', 'low', 'close', 'ratio', 'amount', 'vol']  \n",
    "csvWriter.writerow(item)\n",
    "s = struct.Struct('IIIIIfII')\n",
    "#aaa=b'\\x23\\xab\\x2f\\x01\\x85\\x25\\x00\\x00\\x0e\\x27\\x00\\x00\\x6b\\x25\\x00\\x00\\x0e\\x27\\x00\\x00\\x00\\x36\\xf1\\x48\\xec\\x04\\x00\\x00\\x08\\x00\\x00\\x00'\n",
    "#unpacked_data = s.unpack(aaa)\n",
    "#print(unpacked_data)"
   ]
  },
  {
   "cell_type": "code",
   "execution_count": 2,
   "metadata": {},
   "outputs": [],
   "source": [
    "for i in range(int(no)): \n",
    "            aaa =buf[b:(b+32)]\n",
    "            #print(len(aaa))\n",
    "            #print(type(aaa))\n",
    "            a=s.unpack(aaa)  \n",
    "            year = int(a[0]/10000);  \n",
    "            m = int((a[0]%10000)/100);  \n",
    "            month = str(m);  \n",
    "            if m <10 :  \n",
    "                month = \"0\" + month;  \n",
    "            d = (a[0]%10000)%100;  \n",
    "            day=str(d);  \n",
    "            if d< 10 :  \n",
    "                day = \"0\" + str(d);  \n",
    "            dd = str(year)+\"-\"+month+\"-\"+day  \n",
    "            openPrice = a[1]/100.0  \n",
    "            high = a[2]/100.0  \n",
    "            low =  a[3]/100.0  \n",
    "            close = a[4]/100.0  \n",
    "            amount = a[5]/10.0  \n",
    "            vol = a[6]  \n",
    "            unused = a[7]  \n",
    "            if i == 0 :  \n",
    "                preClose = close  \n",
    "            ratio = round((close - preClose)/preClose*100, 2)  \n",
    "            preClose = close  \n",
    "            item=[dd, str(openPrice), str(high), str(low), str(close), str(ratio), str(amount), str(vol)]  \n",
    "            #print(item)\n",
    "            csvWriter.writerow(item)\n",
    "            #items.append(item)  \n",
    "            b=b+32  \n",
    "            #e=e+32 \n",
    "            #print(b)\n",
    "            #print(e)"
   ]
  },
  {
   "cell_type": "code",
   "execution_count": 3,
   "metadata": {
    "collapsed": true
   },
   "outputs": [],
   "source": [
    "csvFile.close()"
   ]
  },
  {
   "cell_type": "code",
   "execution_count": null,
   "metadata": {
    "collapsed": true
   },
   "outputs": [],
   "source": []
  },
  {
   "cell_type": "code",
   "execution_count": null,
   "metadata": {
    "collapsed": true
   },
   "outputs": [],
   "source": []
  }
 ],
 "metadata": {
  "kernelspec": {
   "display_name": "Python 3",
   "language": "python",
   "name": "python3"
  },
  "language_info": {
   "codemirror_mode": {
    "name": "ipython",
    "version": 3
   },
   "file_extension": ".py",
   "mimetype": "text/x-python",
   "name": "python",
   "nbconvert_exporter": "python",
   "pygments_lexer": "ipython3",
   "version": "3.6.2"
  }
 },
 "nbformat": 4,
 "nbformat_minor": 2
}
